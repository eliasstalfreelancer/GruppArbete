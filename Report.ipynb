{
 "cells": [
  {
   "cell_type": "markdown",
   "id": "b1ad6291",
   "metadata": {},
   "source": [
    "# DEL 1 - Läs in bibliotek och data\n",
    "Först behöver vi importera olika bibliotek, tex pandas och funktioner som vi skapat i de olika mapparna\n",
    "\n",
    "Sen behöver vi läsa in och städa datan. Filen är snygg som den är, vi har inga NaN-värden eller dubletter och kategorinamnen ser bra ut.\n",
    "Det vi behöver fixa är --> datatyperna"
   ]
  },
  {
   "cell_type": "code",
   "execution_count": null,
   "id": "0e8458ad",
   "metadata": {},
   "outputs": [],
   "source": [
    "\"\"\"Importerar bibliotek och funktioner.\"\"\"\n",
    "\n",
    "import pandas as pd\n",
    "import matplotlib.pyplot as plt\n",
    "import src.io_utils as io\n",
    "import src.metrics as me\n",
    "import src.viz as vi\n",
    "import src.ecommerce as ec"
   ]
  },
  {
   "cell_type": "code",
   "execution_count": null,
   "id": "ce930dd8",
   "metadata": {},
   "outputs": [],
   "source": [
    "\"\"\"Skapa en variabel 'df_raw' där vi läser in filen med funktionen som vi skapat i 'io_utils\"\"\"\n",
    "\n",
    "df_raw = io.load_data(\"data/ecommerce_sales.csv\")\n",
    "\n",
    "\"\"\"Skapa en ny variabe 'df' där vi sparar en 'städat' fil med en funktion vi skapat i 'io_utils .\"\"\"\n",
    "\n",
    "df = io.clean_data(df_raw)\n",
    "\n",
    "\n"
   ]
  },
  {
   "cell_type": "markdown",
   "id": "76810c11",
   "metadata": {},
   "source": [
    "# DEL 2 - Presentera frågeställningar\n",
    "- Vad säljer? - vilka kategorier driver mest intäkt?\n",
    "- Var säljer vi? - vilka städer står för störst intäkt?\n",
    "- När säljer vi? - finns tidsmönster/säsong i försäljningen?\n",
    "- Hur ser en typisk order ut? - AOV (Average Order Value) och spridning.\n",
    "- Topp-listor - topp-3 kategorier efter intäkt.\n",
    "- Eventuella avvikelser - något oväntat mönster som sticker ut?\n",
    "- Ni ska avsluta rapporten med 2-3 korta rekommendationer (punktlista) baserat på era resultat, \n",
    "- t.ex. “Satsa på kategori X i stad Y under månad Z"
   ]
  },
  {
   "cell_type": "markdown",
   "id": "6cdfccf4",
   "metadata": {},
   "source": [
    "# Bakgrund och nyckeltal\n",
    "I vår rapport har vi analyserat e-handlen i 5 olika städer. \n",
    "Nedan presneteras en snabb sammanfattning av nyckeltal."
   ]
  },
  {
   "cell_type": "code",
   "execution_count": null,
   "id": "f268f7aa",
   "metadata": {},
   "outputs": [],
   "source": [
    "\"\"\"Skapa en variabel 'analyser' och läs in nyckeltal med hjälp av en klass som vi skapat i ecommerce\"\"\"\n",
    "\n",
    "\"\"\"Förslag på nyckeltal:\n",
    "- Antal ordrar\n",
    "- Total antal enheter\n",
    "- Medelordervärde (AVO)\n",
    "- Total intäkt\"\"\""
   ]
  },
  {
   "cell_type": "markdown",
   "id": "aa4c80c5",
   "metadata": {},
   "source": [
    "# Vad säljer vi\n",
    "Diagrammen visar vilka kategorier som driver mest intäkt samt AOV per kategori"
   ]
  },
  {
   "cell_type": "code",
   "execution_count": null,
   "id": "c91bbcce",
   "metadata": {},
   "outputs": [],
   "source": [
    "by_category =round(me.groupby_category(df),0)\n",
    "\n",
    "fig, axes = plt.subplots(2, 2, figsize=(11, 8), sharex=False, sharey=False)\n",
    "vi.bar(axes[0,0], by_category['category'], by_category['total'], 'Total intäkt per kategori', 'Kategorier', 'Total intäkt')\n",
    "vi.bar(axes[0,1], by_category['category'], by_category['antal'], 'Antal ordrar per kategori', 'Kategorier', 'Antal ordrar')\n",
    "vi.bar(axes[1,0], by_category['category'], by_category['medel'], 'Medelintäkt per kategori', 'Kategorier', 'Medelvärde intäkt')\n",
    "axes[1,0].axhline(1401, linestyle='--', color='black', linewidth=2, label=f'Medelvärde totala inköp 1401 kr' )\n",
    "axes[1,0].legend()\n",
    "vi.box(axes[1,1],df,'units','category','Antal enheter per order - Kategori', 'Kategorier', 'Enheter per order',)\n",
    "# axes[1,1].axis('off')\n",
    "fig.suptitle('Översikt - Kategorier', fontsize=16)\n",
    "plt.tight_layout()\n",
    "\n",
    "# average_vaule_order\n"
   ]
  },
  {
   "cell_type": "markdown",
   "id": "d5810399",
   "metadata": {},
   "source": [
    "# Var säljer vi\n",
    "Diagrammen visar vilka städer som driver mest intäkt samt AOV per stad"
   ]
  },
  {
   "cell_type": "code",
   "execution_count": null,
   "id": "0efb52ae",
   "metadata": {},
   "outputs": [],
   "source": [
    "\"\"\"Läs in diagram från viz.py som visar revenue per stad\"\"\""
   ]
  },
  {
   "cell_type": "code",
   "execution_count": null,
   "id": "4a6fd40b",
   "metadata": {},
   "outputs": [],
   "source": [
    "\"\"\"Läs in diagram från viz.py som visar AOV per stad\"\"\""
   ]
  },
  {
   "cell_type": "markdown",
   "id": "b0d37ac1",
   "metadata": {},
   "source": [
    "# När säljer vi\n",
    "Diagrammet visar intäkt per månad via tidsaxel"
   ]
  },
  {
   "cell_type": "code",
   "execution_count": null,
   "id": "d3ad5c3e",
   "metadata": {},
   "outputs": [],
   "source": [
    "\"\"\"Läs in diagram från viz.py som visar intäkt per månad\"\"\""
   ]
  },
  {
   "cell_type": "markdown",
   "id": "7a29cc36",
   "metadata": {},
   "source": [
    "# Topplistor \n",
    "Visa top 3 kategorier sorterat på intäkt"
   ]
  },
  {
   "cell_type": "code",
   "execution_count": null,
   "id": "a60e5dad",
   "metadata": {},
   "outputs": [],
   "source": [
    "top_3_category = by_category[['category','total']].head(3)\n",
    "\n",
    "\n",
    "print(f'Topp 3 bäst säljande kategorier:\\n\\n {top_3_category}')"
   ]
  },
  {
   "cell_type": "markdown",
   "id": "1292a07e",
   "metadata": {},
   "source": [
    "# Avvikelser\n",
    "Här får vi se vad vi lägger in när vi tagit ut olika data"
   ]
  },
  {
   "cell_type": "markdown",
   "id": "d9c077f9",
   "metadata": {},
   "source": [
    "# Rekomendatioen\n",
    "Här lägger vi in våra rekomendtioner när vi analyserat datan"
   ]
  }
 ],
 "metadata": {
  "kernelspec": {
   "display_name": "Python 3",
   "language": "python",
   "name": "python3"
  },
  "language_info": {
   "codemirror_mode": {
    "name": "ipython",
    "version": 3
   },
   "file_extension": ".py",
   "mimetype": "text/x-python",
   "name": "python",
   "nbconvert_exporter": "python",
   "pygments_lexer": "ipython3",
   "version": "3.13.7"
  }
 },
 "nbformat": 4,
 "nbformat_minor": 5
}
