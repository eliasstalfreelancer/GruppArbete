{
 "cells": [
  {
   "cell_type": "markdown",
   "id": "b1ad6291",
   "metadata": {},
   "source": [
    "# DEL 1 - Läs in bibliotek och data\n",
    "Först behöver vi importera olika bibliotek, tex pandas och funktioner som vi skapat i de olika mapparna\n",
    "\n",
    "Sen behöver vi läsa in och städa datan. Filen är snygg som den är, vi har inga NaN-värden eller dubletter och kategorinamnen ser bra ut.\n",
    "Det vi behöver fixa är --> datatyperna"
   ]
  },
  {
   "cell_type": "code",
   "execution_count": null,
   "id": "0e8458ad",
   "metadata": {},
   "outputs": [],
   "source": [
    "\"\"\"Importerar bibliotek och funktioner.\"\"\"\n",
    "\n",
    "import src.io_utils as io_utils\n",
    "import src.ecommerce as ecommerce\n",
    "\n",
    "#Skapa en variabel 'df_raw' där vi läser in filen med funktionen som vi skapat i 'io_utils\n",
    "df_raw = io_utils.load_data(\"data/ecommerce_sales.csv\")\n",
    "#Skapa en ny variabe 'df' där vi sparar en 'städat' fil med en funktion vi skapat i 'io_utils \n",
    "df = io_utils.clean_data(df_raw)\n",
    "\n"
   ]
  },
  {
   "cell_type": "code",
   "execution_count": 2,
   "id": "ce930dd8",
   "metadata": {},
   "outputs": [
    {
     "data": {
      "text/plain": [
       "\"Skapa en ny variabe 'df_clean' där vi sparar en 'städat' fil med en funktion vi skapat i 'io_utils .\""
      ]
     },
     "execution_count": 2,
     "metadata": {},
     "output_type": "execute_result"
    }
   ],
   "source": [
    "\"\"\"Skapa en variabel 'df' där vi läser in filen med funktionen som vi skapat i 'io_utils\"\"\"\n",
    "\n",
    "\"\"\"Skapa en ny variabe 'df_clean' där vi sparar en 'städat' fil med en funktion vi skapat i 'io_utils .\"\"\"\n"
   ]
  },
  {
   "cell_type": "markdown",
   "id": "76810c11",
   "metadata": {},
   "source": [
    "# DEL 2 - Presentera frågeställningar\n",
    "- Vad säljer? - vilka kategorier driver mest intäkt?\n",
    "- Var säljer vi? - vilka städer står för störst intäkt?\n",
    "- När säljer vi? - finns tidsmönster/säsong i försäljningen?\n",
    "- Hur ser en typisk order ut? - AOV (Average Order Value) och spridning.\n",
    "- Topp-listor - topp-3 kategorier efter intäkt.\n",
    "- Eventuella avvikelser - något oväntat mönster som sticker ut?\n",
    "- Ni ska avsluta rapporten med 2-3 korta rekommendationer (punktlista) baserat på era resultat, \n",
    "- t.ex. “Satsa på kategori X i stad Y under månad Z"
   ]
  },
  {
   "cell_type": "markdown",
   "id": "6cdfccf4",
   "metadata": {},
   "source": [
    "# Bakgrund och nyckeltal\n",
    "I vår rapport har vi analyserat e-handlen i 5 olika städer. \n",
    "Nedan presneteras en snabb sammanfattning av nyckeltal."
   ]
  },
  {
   "cell_type": "code",
   "execution_count": 3,
   "id": "f268f7aa",
   "metadata": {},
   "outputs": [
    {
     "name": "stdout",
     "output_type": "stream",
     "text": [
      "Aov: 1401.11 kr per order. \n",
      " Antalet ordrar: 2500 st. \n",
      " Inkomst: 3502767.23 kr. \n",
      " Antal enheter: 7463 st.\n"
     ]
    },
    {
     "data": {
      "text/plain": [
       "'Förslag på nyckeltal:\\n- Antal ordrar\\n- Total antal enheter\\n- Medelordervärde (AVO)\\n- Total intäkt'"
      ]
     },
     "execution_count": 3,
     "metadata": {},
     "output_type": "execute_result"
    }
   ],
   "source": [
    "\"\"\"Skapa en variabel 'analyser' och läs in nyckeltal med hjälp av en klass som vi skapat i ecommerce\"\"\"\n",
    "\n",
    "\n",
    "\n",
    "\n",
    " \n",
    "ecommerce.DataProccesing(df).key_words()\n",
    "\n",
    "\"\"\"Förslag på nyckeltal:\n",
    "- Antal ordrar\n",
    "- Total antal enheter\n",
    "- Medelordervärde (AVO)\n",
    "- Total intäkt\"\"\""
   ]
  },
  {
   "cell_type": "markdown",
   "id": "aa4c80c5",
   "metadata": {},
   "source": [
    "# Vad säljer vi\n",
    "Diagrammen visar vilka kategorier som driver mest intäkt samt AOV per kategori"
   ]
  },
  {
   "cell_type": "code",
   "execution_count": null,
   "id": "d617d878",
   "metadata": {},
   "outputs": [],
   "source": [
    "\"\"\"Läs in diagram från viz.py som visar revenue per kategori\"\"\""
   ]
  },
  {
   "cell_type": "code",
   "execution_count": null,
   "id": "ca9a38d7",
   "metadata": {},
   "outputs": [],
   "source": [
    "\"\"\"Läs in diagram från viz.py som visa AOV per kategori\"\"\""
   ]
  },
  {
   "cell_type": "markdown",
   "id": "d5810399",
   "metadata": {},
   "source": [
    "# Var säljer vi\n",
    "Diagrammen visar vilka städer som driver mest intäkt samt AOV per stad"
   ]
  },
  {
   "cell_type": "code",
   "execution_count": null,
   "id": "0efb52ae",
   "metadata": {},
   "outputs": [],
   "source": [
    "\"\"\"Läs in diagram från viz.py som visar revenue per stad\"\"\""
   ]
  },
  {
   "cell_type": "code",
   "execution_count": null,
   "id": "4a6fd40b",
   "metadata": {},
   "outputs": [],
   "source": [
    "\"\"\"Läs in diagram från viz.py som visar AOV per stad\"\"\""
   ]
  },
  {
   "cell_type": "markdown",
   "id": "b0d37ac1",
   "metadata": {},
   "source": [
    "# När säljer vi\n",
    "Diagrammet visar intäkt per månad via tidsaxel"
   ]
  },
  {
   "cell_type": "code",
   "execution_count": null,
   "id": "d3ad5c3e",
   "metadata": {},
   "outputs": [],
   "source": [
    "\"\"\"Läs in diagram från viz.py som visar intäkt per månad\"\"\""
   ]
  },
  {
   "cell_type": "markdown",
   "id": "7a29cc36",
   "metadata": {},
   "source": [
    "# Topplistor \n",
    "Visa top 3 kategorier sorterat på intäkt"
   ]
  },
  {
   "cell_type": "markdown",
   "id": "1292a07e",
   "metadata": {},
   "source": [
    "# Avvikelser\n",
    "Här får vi se vad vi lägger in när vi tagit ut olika data"
   ]
  },
  {
   "cell_type": "markdown",
   "id": "d9c077f9",
   "metadata": {},
   "source": [
    "# Rekomendatioen\n",
    "Här lägger vi in våra rekomendtioner när vi analyserat datan"
   ]
  }
 ],
 "metadata": {
  "kernelspec": {
   "display_name": "Python 3",
   "language": "python",
   "name": "python3"
  },
  "language_info": {
   "codemirror_mode": {
    "name": "ipython",
    "version": 3
   },
   "file_extension": ".py",
   "mimetype": "text/x-python",
   "name": "python",
   "nbconvert_exporter": "python",
   "pygments_lexer": "ipython3",
   "version": "3.11.9"
  }
 },
 "nbformat": 4,
 "nbformat_minor": 5
}
