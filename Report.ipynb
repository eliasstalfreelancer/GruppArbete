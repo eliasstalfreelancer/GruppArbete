{
 "cells": [
  {
   "cell_type": "markdown",
   "id": "b1ad6291",
   "metadata": {},
   "source": [
    "# DEL 1 - Läs in bibliotek och data\n",
    "Först behöver vi importera olika bibliotek, tex pandas och funktioner som vi skapat i de olika mapparna\n",
    "\n",
    "Sen behöver vi läsa in och städa datan. Filen är snygg som den är, vi har inga NaN-värden eller dubletter och kategorinamnen ser bra ut.\n",
    "Det vi behöver fixa är --> datatyperna"
   ]
  },
  {
   "cell_type": "code",
   "execution_count": 1,
   "id": "0e8458ad",
   "metadata": {},
   "outputs": [
    {
     "data": {
      "text/plain": [
       "'Importerar bibliotek och funktioner.'"
      ]
     },
     "execution_count": 1,
     "metadata": {},
     "output_type": "execute_result"
    }
   ],
   "source": [
    "\"\"\"Importerar bibliotek och funktioner.\"\"\""
   ]
  },
  {
   "cell_type": "code",
   "execution_count": 2,
   "id": "ce930dd8",
   "metadata": {},
   "outputs": [
    {
     "data": {
      "text/plain": [
       "\"Skapa en ny variabe 'df_clean' där vi sparar en 'städat' fil med en funktion vi skapat i 'io_utils .\""
      ]
     },
     "execution_count": 2,
     "metadata": {},
     "output_type": "execute_result"
    }
   ],
   "source": [
    "\"\"\"Skapa en variabel 'df' där vi läser in filen med funktionen som vi skapat i 'io_utils\"\"\"\n",
    "\n",
    "\"\"\"Skapa en ny variabe 'df_clean' där vi sparar en 'städat' fil med en funktion vi skapat i 'io_utils .\"\"\"\n"
   ]
  },
  {
   "cell_type": "markdown",
   "id": "76810c11",
   "metadata": {},
   "source": [
    "# DEL 2 - Presentera frågeställningar\n",
    "- Vad säljer? - vilka kategorier driver mest intäkt?\n",
    "- Var säljer vi? - vilka städer står för störst intäkt?\n",
    "- När säljer vi? - finns tidsmönster/säsong i försäljningen?\n",
    "- Hur ser en typisk order ut? - AOV (Average Order Value) och spridning.\n",
    "- Topp-listor - topp-3 kategorier efter intäkt.\n",
    "- Eventuella avvikelser - något oväntat mönster som sticker ut?\n",
    "- Ni ska avsluta rapporten med 2-3 korta rekommendationer (punktlista) baserat på era resultat, \n",
    "- t.ex. “Satsa på kategori X i stad Y under månad Z"
   ]
  },
  {
   "cell_type": "markdown",
   "id": "6cdfccf4",
   "metadata": {},
   "source": [
    "# Bakgrund och nyckeltal\n",
    "I vår rapport har vi analyserat e-handlen i 5 olika städer. \n",
    "Nedan presneteras en snabb sammanfattning av nyckeltal."
   ]
  },
  {
   "cell_type": "code",
   "execution_count": 4,
   "id": "f268f7aa",
   "metadata": {},
   "outputs": [
    {
     "ename": "ModuleNotFoundError",
     "evalue": "No module named 'pandas'",
     "output_type": "error",
     "traceback": [
      "\u001b[31m---------------------------------------------------------------------------\u001b[39m",
      "\u001b[31mModuleNotFoundError\u001b[39m                       Traceback (most recent call last)",
      "\u001b[36mCell\u001b[39m\u001b[36m \u001b[39m\u001b[32mIn[4]\u001b[39m\u001b[32m, line 2\u001b[39m\n\u001b[32m      1\u001b[39m \u001b[33;03m\"\"\"Skapa en variabel 'analyser' och läs in nyckeltal med hjälp av en klass som vi skapat i ecommerce\"\"\"\u001b[39;00m\n\u001b[32m----> \u001b[39m\u001b[32m2\u001b[39m \u001b[38;5;28;01mimport\u001b[39;00m\u001b[38;5;250m \u001b[39m\u001b[34;01msrc\u001b[39;00m\u001b[34;01m.\u001b[39;00m\u001b[34;01mecommerce\u001b[39;00m\u001b[38;5;250m \u001b[39m\u001b[38;5;28;01mas\u001b[39;00m\u001b[38;5;250m \u001b[39m\u001b[34;01mecommerce\u001b[39;00m \n\u001b[32m      3\u001b[39m ecommerce.DataProccesing(\u001b[33m\"\u001b[39m\u001b[33mdata/ecommerce_sales.csv\u001b[39m\u001b[33m\"\u001b[39m).key_words()\n\u001b[32m      5\u001b[39m \u001b[33;03m\"\"\"Förslag på nyckeltal:\u001b[39;00m\n\u001b[32m      6\u001b[39m \u001b[33;03m- Antal ordrar\u001b[39;00m\n\u001b[32m      7\u001b[39m \u001b[33;03m- Total antal enheter\u001b[39;00m\n\u001b[32m      8\u001b[39m \u001b[33;03m- Medelordervärde (AVO)\u001b[39;00m\n\u001b[32m      9\u001b[39m \u001b[33;03m- Total intäkt\"\"\"\u001b[39;00m\n",
      "\u001b[36mFile \u001b[39m\u001b[32mc:\\Users\\elias\\OneDrive\\Skrivbord\\ECRepo\\Grupparbte\\src\\ecommerce.py:4\u001b[39m\n\u001b[32m      1\u001b[39m \u001b[33;03m\"\"\"Läs in funktioner från metrics\"\"\"\u001b[39;00m\n\u001b[32m----> \u001b[39m\u001b[32m4\u001b[39m \u001b[38;5;28;01mimport\u001b[39;00m\u001b[38;5;250m \u001b[39m\u001b[34;01msrc\u001b[39;00m\u001b[34;01m.\u001b[39;00m\u001b[34;01mio_utils\u001b[39;00m\u001b[38;5;250m \u001b[39m\u001b[38;5;28;01mas\u001b[39;00m\u001b[38;5;250m \u001b[39m\u001b[34;01mio_utils\u001b[39;00m\n\u001b[32m      5\u001b[39m \u001b[38;5;28;01mimport\u001b[39;00m\u001b[38;5;250m \u001b[39m\u001b[34;01mpandas\u001b[39;00m\u001b[38;5;250m \u001b[39m\u001b[38;5;28;01mas\u001b[39;00m\u001b[38;5;250m \u001b[39m\u001b[34;01mpd\u001b[39;00m\n\u001b[32m      6\u001b[39m \u001b[38;5;66;03m#används för att få ut summan av enheter och intäkt\u001b[39;00m\n",
      "\u001b[36mFile \u001b[39m\u001b[32mc:\\Users\\elias\\OneDrive\\Skrivbord\\ECRepo\\Grupparbte\\src\\io_utils.py:14\u001b[39m\n\u001b[32m      1\u001b[39m \u001b[33;03m\"\"\" \u001b[39;00m\n\u001b[32m      2\u001b[39m \u001b[33;03m1. Börja med att importera bibliotek pandas\u001b[39;00m\n\u001b[32m      3\u001b[39m \n\u001b[32m   (...)\u001b[39m\u001b[32m     11\u001b[39m \u001b[33;03m    *Sätta rätt datatyper så vi kan använda kategorierna för olika beräkningar senare\u001b[39;00m\n\u001b[32m     12\u001b[39m \u001b[33;03m    *Retunera df_clean\"\"\"\u001b[39;00m\n\u001b[32m---> \u001b[39m\u001b[32m14\u001b[39m \u001b[38;5;28;01mimport\u001b[39;00m\u001b[38;5;250m \u001b[39m\u001b[34;01mpandas\u001b[39;00m\u001b[38;5;250m \u001b[39m\u001b[38;5;28;01mas\u001b[39;00m\u001b[38;5;250m \u001b[39m\u001b[34;01mpd\u001b[39;00m\n\u001b[32m     16\u001b[39m \u001b[38;5;28;01mdef\u001b[39;00m\u001b[38;5;250m \u001b[39m\u001b[34mload_data\u001b[39m(filepath):\n\u001b[32m     17\u001b[39m     \u001b[38;5;28;01mreturn\u001b[39;00m pd.read_csv(filepath)\n",
      "\u001b[31mModuleNotFoundError\u001b[39m: No module named 'pandas'"
     ]
    }
   ],
   "source": [
    "\"\"\"Skapa en variabel 'analyser' och läs in nyckeltal med hjälp av en klass som vi skapat i ecommerce\"\"\"\n",
    "import src.ecommerce as ecommerce \n",
    "ecommerce.DataProccesing(\"data/ecommerce_sales.csv\").key_words()\n",
    "\n",
    "\"\"\"Förslag på nyckeltal:\n",
    "- Antal ordrar\n",
    "- Total antal enheter\n",
    "- Medelordervärde (AVO)\n",
    "- Total intäkt\"\"\""
   ]
  },
  {
   "cell_type": "markdown",
   "id": "aa4c80c5",
   "metadata": {},
   "source": [
    "# Vad säljer vi\n",
    "Diagrammen visar vilka kategorier som driver mest intäkt samt AOV per kategori"
   ]
  },
  {
   "cell_type": "code",
   "execution_count": null,
   "id": "d617d878",
   "metadata": {},
   "outputs": [],
   "source": [
    "\"\"\"Läs in diagram från viz.py som visar revenue per kategori\"\"\""
   ]
  },
  {
   "cell_type": "code",
   "execution_count": null,
   "id": "ca9a38d7",
   "metadata": {},
   "outputs": [],
   "source": [
    "\"\"\"Läs in diagram från viz.py som visa AOV per kategori\"\"\""
   ]
  },
  {
   "cell_type": "markdown",
   "id": "d5810399",
   "metadata": {},
   "source": [
    "# Var säljer vi\n",
    "Diagrammen visar vilka städer som driver mest intäkt samt AOV per stad"
   ]
  },
  {
   "cell_type": "code",
   "execution_count": null,
   "id": "0efb52ae",
   "metadata": {},
   "outputs": [],
   "source": [
    "\"\"\"Läs in diagram från viz.py som visar revenue per stad\"\"\""
   ]
  },
  {
   "cell_type": "code",
   "execution_count": null,
   "id": "4a6fd40b",
   "metadata": {},
   "outputs": [],
   "source": [
    "\"\"\"Läs in diagram från viz.py som visar AOV per stad\"\"\""
   ]
  },
  {
   "cell_type": "markdown",
   "id": "b0d37ac1",
   "metadata": {},
   "source": [
    "# När säljer vi\n",
    "Diagrammet visar intäkt per månad via tidsaxel"
   ]
  },
  {
   "cell_type": "code",
   "execution_count": null,
   "id": "d3ad5c3e",
   "metadata": {},
   "outputs": [],
   "source": [
    "\"\"\"Läs in diagram från viz.py som visar intäkt per månad\"\"\""
   ]
  },
  {
   "cell_type": "markdown",
   "id": "7a29cc36",
   "metadata": {},
   "source": [
    "# Topplistor \n",
    "Visa top 3 kategorier sorterat på intäkt"
   ]
  },
  {
   "cell_type": "markdown",
   "id": "1292a07e",
   "metadata": {},
   "source": [
    "# Avvikelser\n",
    "Här får vi se vad vi lägger in när vi tagit ut olika data"
   ]
  },
  {
   "cell_type": "markdown",
   "id": "d9c077f9",
   "metadata": {},
   "source": [
    "# Rekomendatioen\n",
    "Här lägger vi in våra rekomendtioner när vi analyserat datan"
   ]
  }
 ],
 "metadata": {
  "kernelspec": {
   "display_name": "Python 3",
   "language": "python",
   "name": "python3"
  },
  "language_info": {
   "codemirror_mode": {
    "name": "ipython",
    "version": 3
   },
   "file_extension": ".py",
   "mimetype": "text/x-python",
   "name": "python",
   "nbconvert_exporter": "python",
   "pygments_lexer": "ipython3",
   "version": "3.11.9"
  }
 },
 "nbformat": 4,
 "nbformat_minor": 5
}
