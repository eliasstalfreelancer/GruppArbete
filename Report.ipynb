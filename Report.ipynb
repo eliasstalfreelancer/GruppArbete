{
 "cells": [
  {
   "cell_type": "markdown",
   "id": "f22268ad",
   "metadata": {},
   "source": [
    "### VECKA 42\n",
    "- Elias\n",
    "- Alma\n",
    "- Jazdan\n",
    "- Shara\n",
    "- Sayed\n",
    "- Josefin\n",
    "- Jonas"
   ]
  },
  {
   "cell_type": "code",
   "execution_count": null,
   "id": "0e8458ad",
   "metadata": {},
   "outputs": [],
   "source": []
  }
 ],
 "metadata": {
  "language_info": {
   "name": "python"
  }
 },
 "nbformat": 4,
 "nbformat_minor": 5
}
