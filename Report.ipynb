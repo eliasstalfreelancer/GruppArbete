{
 "cells": [
  {
   "cell_type": "markdown",
   "id": "b1ad6291",
   "metadata": {},
   "source": [
    "# DEL 1 - Läs in bibliotek och data\n",
    "Först behöver vi importera olika bibliotek, tex pandas och funktioner som vi skapat i de olika mapparna\n",
    "\n",
    "Sen behöver vi läsa in och städa datan. Filen är snygg som den är, vi har inga NaN-värden eller dubletter och kategorinamnen ser bra ut.\n",
    "Det vi behöver fixa är --> datatyperna"
   ]
  },
  {
   "cell_type": "code",
   "execution_count": null,
   "id": "0e8458ad",
   "metadata": {},
   "outputs": [],
   "source": [
    "\"\"\"Importerar bibliotek och funktioner.\"\"\"\n",
    "\n",
    "import src.io_utils as io\n",
    "import src.ecommerce as ec\n",
    "import pandas as pd\n",
    "import matplotlib.pyplot as plt\n",
    "from src.io_utils import load_data, clean_data\n",
    "import src.viz as vi\n",
    "import src.metrics as me ",
    "import src.io_utils as io\n",
    "import src.metrics as me\n",
    "import src.viz as vi\n",
    "import src.ecommerce as ec\n",
    "from src.io_utils import load_data, clean_data\n",
    "from src.metrics import order_per_weekday\n",
    "from src.metrics import order_per_month\n",
    "from src.viz import plot_orders_weekday, plot_orders_month"
   ]
  },
  {
   "cell_type": "code",
   "execution_count": 2,
   "id": "ce930dd8",
   "metadata": {},
   "outputs": [],
   "source": [
    "\"\"\"Skapa en variabel 'df_raw' där vi läser in filen med funktionen som vi skapat i 'io_utils\"\"\"\n",
    "\n",
    "df_raw = load_data(\"data/ecommerce_sales.csv\")\n",
    "\n",
    "\"\"\"Skapa en ny variabe 'df' där vi sparar en 'städat' fil med en funktion vi skapat i 'io_utils .\"\"\"\n",
    "\n",
    "df = clean_data(df_raw)\n",
    "\n",
    "df['month'] = df['date'].dt.to_period('M')  # Tar ut månaden från datumet\n",
    "\n",
    "df['day_of_week'] = df['date'].dt.day_name() # Tar ur veckodagen från datumet\n"
   ]
  },
  {
   "cell_type": "code",
   "execution_count": 3,
   "id": "97808215",
   "metadata": {},
   "outputs": [
    {
     "data": {
      "text/plain": [
       "\"Skapa en ny variabe 'df_clean' där vi sparar en 'städat' fil med en funktion vi skapat i 'io_utils .\""
      ]
     },
     "execution_count": 3,
     "metadata": {},
     "output_type": "execute_result"
    }
   ],
   "source": [
    "\"\"\"Skapa en variabel 'df' där vi läser in filen med funktionen som vi skapat i 'io_utils\"\"\"\n",
    "#Skapa en variabel 'df_raw' där vi läser in filen med funktionen som vi skapat i 'io_utils\n",
    "df_raw = io.load_data(\"data/ecommerce_sales.csv\")\n",
    "#Skapa en ny variabe 'df' där vi sparar en 'städat' fil med en funktion vi skapat i 'io_utils \n",
    "df = io.clean_data(df_raw)\n",
    "\n",
    "\"\"\"Skapa en ny variabe 'df_clean' där vi sparar en 'städat' fil med en funktion vi skapat i 'io_utils .\"\"\"\n"
   ]
  },
  {
   "cell_type": "markdown",
   "id": "76810c11",
   "metadata": {},
   "source": [
    "# DEL 2 - Presentera frågeställningar\n",
    "- Vad säljer? - vilka kategorier driver mest intäkt?\n",
    "- Var säljer vi? - vilka städer står för störst intäkt?\n",
    "- När säljer vi? - finns tidsmönster/säsong i försäljningen?\n",
    "- Hur ser en typisk order ut? - AOV (Average Order Value) och spridning.\n",
    "- Topp-listor - topp-3 kategorier efter intäkt.\n",
    "- Eventuella avvikelser - något oväntat mönster som sticker ut?\n",
    "- Ni ska avsluta rapporten med 2-3 korta rekommendationer (punktlista) baserat på era resultat, \n",
    "- t.ex. “Satsa på kategori X i stad Y under månad Z"
   ]
  },
  {
   "cell_type": "markdown",
   "id": "6cdfccf4",
   "metadata": {},
   "source": [
    "# Bakgrund och nyckeltal\n",
    "I vår rapport har vi analyserat e-handlen i 5 olika städer. \n",
    "Nedan presneteras en snabb sammanfattning av nyckeltal."
   ]
  },
  {
   "cell_type": "code",
   "execution_count": 5,
   "id": "f268f7aa",
   "metadata": {},
   "outputs": [
    {
     "data": {
      "text/plain": [
       "'Förslag på nyckeltal:\\n- Antal ordrar\\n- Total antal enheter\\n- Medelordervärde (AVO)\\n- Total intäkt'"
      ]
     },
     "execution_count": 4,
     "execution_count": 5,
     "metadata": {},
     "output_type": "execute_result"
    }
   ],
   "source": [
    "\"\"\"Skapa en variabel 'analyser' och läs in nyckeltal med hjälp av en klass som vi skapat i ecommerce\"\"\"\n",
    "\n",
    "\n",
    "\n",
    "\n",
    " \n",
    "ec.DataProccesing(df).key_words()\n",
    "\n",
    "\"\"\"Förslag på nyckeltal:\n",
    "- Antal ordrar\n",
    "- Total antal enheter\n",
    "- Medelordervärde (AVO)\n",
    "- Total intäkt\"\"\""
   ]
  },
  {
   "cell_type": "markdown",
   "id": "aa4c80c5",
   "metadata": {},
   "source": [
    "# Vad säljer vi\n",
    "Diagrammen visar vilka kategorier som driver mest intäkt samt AOV per kategori"
   ]
  },
  {
   "cell_type": "code",
   "execution_count": 6,
   "id": "d617d878",
   "metadata": {},
   "outputs": [
    {
     "data": {
      "text/plain": [
       "'Läs in diagram från viz.py som visar revenue per kategori'"
      ]
     },
     "execution_count": 6,
     "metadata": {},
     "output_type": "execute_result"
    }
   ],
   "source": [
    "\"\"\"Läs in diagram från viz.py som visar revenue per kategori\"\"\"\n"
   ]
  },
  {
   "cell_type": "code",
   "execution_count": 6,
   "execution_count": 7,
   "id": "ca9a38d7",
   "metadata": {},
   "outputs": [
    {
     "data": {
      "text/plain": [
       "'Läs in diagram från viz.py som visa AOV per kategori'"
      ]
     },
     "execution_count": 6,
     "metadata": {},
     "output_type": "execute_result"
    }
   ],
   "source": [
    "by_category =round(me.groupby_category(df),0)\n",
    "\n",
    "fig, axes = plt.subplots(2, 2, figsize=(11, 8), sharex=False, sharey=False)\n",
    "vi.bar(axes[0,0], by_category['category'], by_category['total'], 'Total intäkt per kategori', 'Kategorier', 'Total intäkt')\n",
    "vi.bar(axes[0,1], by_category['category'], by_category['antal'], 'Antal ordrar per kategori', 'Kategorier', 'Antal ordrar')\n",
    "vi.bar(axes[1,0], by_category['category'], by_category['medel'], 'Medelintäkt per kategori', 'Kategorier', 'Medelvärde intäkt')\n",
    "axes[1,0].axhline(1401, linestyle='--', color='black', linewidth=2, label=f'Medelvärde totala inköp 1401 kr' ) # ska ändras till nyckelvärdet avo\n",
    "axes[1,0].legend()\n",
    "vi.box(axes[1,1],df,'units','category','Antal enheter per order - Kategori', 'Kategorier', 'Enheter per order',)\n",
    "fig.suptitle('Översikt - Kategorier', fontsize=16)\n",
    "plt.tight_layout()\n",
    "\n",
    "# average_vaule_order\n"
   ]
  },
  {
   "cell_type": "markdown",
   "id": "d5810399",
   "metadata": {},
   "source": [
    "# Var säljer vi\n",
    "Diagrammen visar vilka städer som driver mest intäkt samt AOV per stad"
   ]
  },
  {
   "cell_type": "code",
   "execution_count": 7,

   "execution_count": 8,
   "id": "0efb52ae",
   "metadata": {},
   "outputs": [
    {
     "data": {
      "text/plain": [
       "'Läs in diagram från viz.py som visar revenue per stad'"
      ]
     },
     "execution_count": 7,

     "execution_count": 8,
     "metadata": {},
     "output_type": "execute_result"
    }
   ],
   "source": [
    "\"\"\"Läs in diagram från viz.py som visar revenue per stad\"\"\"\n"
   ]
  },
  {
   "cell_type": "code",
   "execution_count": 8,

   "execution_count": 9,
   "id": "4a6fd40b",
   "metadata": {},
   "outputs": [
    {
     "data": {
      "text/plain": [
       "'Läs in diagram från viz.py som visar AOV per stad'"
      ]
     },
     "execution_count": 8,

     "execution_count": 9,
     "metadata": {},
     "output_type": "execute_result"
    }
   ],
   "source": [
    "\"\"\"Läs in diagram från viz.py som visar AOV per stad\"\"\""
   ]
  },
  {
   "cell_type": "markdown",
   "id": "b0d37ac1",
   "metadata": {},
   "source": [
    "# När säljer vi\n",
    "Diagrammet visar intäkt per månad via tidsaxel"
   ]
  },
  {
   "cell_type": "code",
   "execution_count": 9,

   "execution_count": 10,
   "id": "d3ad5c3e",
   "metadata": {},
   "outputs": [
    {
     "data": {
      "text/plain": [
       "'Läs in diagram från viz.py som visar intäkt per månad'"
      ]
     },
     "execution_count": 9,

     "execution_count": 10,
     "metadata": {},
     "output_type": "execute_result"
    }
   ],
   "source": [
    "\"\"\"Läs in diagram från viz.py som visar intäkt per månad\"\"\""
   ]
  },
  {
   "cell_type": "markdown",
   "id": "7a29cc36",
   "metadata": {},
   "source": [
    "# Topplistor \n",
    "Visa top 3 kategorier sorterat på intäkt"
   ]
  },
  {
   "cell_type": "code",
   "execution_count": 11,
   "id": "a60e5dad",
   "metadata": {},
   "outputs": [
    {
     "name": "stdout",
     "output_type": "stream",
     "text": [
      "Topp 3 bäst säljande kategorier:\n",
      "\n",
      "       category      total\n",
      "0  Electronics  1364228.0\n",
      "1       Sports   734653.0\n",
      "2     Clothing   586745.0\n"
     ]
    }
   ],
   "source": [
    "top_3_category = by_category[['category','total']].head(3)\n",
    "\n",
    "\n",
    "print(f'Topp 3 bäst säljande kategorier:\\n\\n {top_3_category}')"
   ]
  },
  {
   "cell_type": "markdown",
   "id": "1292a07e",
   "metadata": {},
   "source": [
    "# Avvikelser\n",
    "Här får vi se vad vi lägger in när vi tagit ut olika data"
   ]
  },
  {
   "cell_type": "markdown",
   "id": "d9c077f9",
   "metadata": {},
   "source": [
    "# Rekomendatioen\n",
    "Här lägger vi in våra rekomendtioner när vi analyserat datan"
   ]
  }
 ],
 "metadata": {
  "kernelspec": {
   "display_name": "Python 3",
   "language": "python",
   "name": "python3"
  },
  "language_info": {
   "codemirror_mode": {
    "name": "ipython",
    "version": 3
   },
   "file_extension": ".py",
   "mimetype": "text/x-python",
   "name": "python",
   "nbconvert_exporter": "python",
   "pygments_lexer": "ipython3",
   "version": "3.11.9"
  }
 },
 "nbformat": 4,
 "nbformat_minor": 5
}
