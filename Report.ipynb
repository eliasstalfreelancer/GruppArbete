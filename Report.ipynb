{
 "cells": [
  {
   "cell_type": "code",
   "execution_count": null,
   "id": "0e8458ad",
   "metadata": {},
   "outputs": [],
   "source": [
    "\"\"\"Vi börjar med att importera olika bibliotek, tex pandas och funktioner som vi skapat i de olika filerna.\"\"\""
   ]
  },
  {
   "cell_type": "code",
   "execution_count": null,
   "id": "ce930dd8",
   "metadata": {},
   "outputs": [],
   "source": [
    "\"\"\"Skapa en variabel 'df' där vi läser in filen med funktionen som vi skapat i 'io_utils\"\"\"\n",
    "\n",
    "\"\"\"Skapa en ny variabe 'df_clean' där vi 'städat' filen men en funktione i 'io_utils .\n",
    "Filen är snygg som den är, vi har inga NaN-värden eller dubletter och kategorinamnen ser bra ut.\n",
    "Det vi behöver fixa är datatyperna\"\"\"\n"
   ]
  },
  {
   "cell_type": "code",
   "execution_count": null,
   "id": "7172996b",
   "metadata": {},
   "outputs": [],
   "source": [
    "\"\"\"Pressentera frågeställniingarna med olika diagram som vi gjortuträkningar i metrics och diagramen i viz.py\n",
    "Vad säljer? - vilka kategorier driver mest intäkt?\n",
    "Var säljer vi? - vilka städer står för störst intäkt?\n",
    "När säljer vi? - finns tidsmönster/säsong i försäljningen?\n",
    "Hur ser en typisk order ut? - AOV (Average Order Value) och spridning.\n",
    "Topp-listor - topp-3 kategorier efter intäkt.\n",
    "Eventuella avvikelser - något oväntat mönster som sticker ut?\n",
    "Ni ska avsluta rapporten med 2-3 korta rekommendationer (punktlista) baserat på era resultat, \n",
    "t.ex. “Satsa på kategori X i stad Y under månad Z”.\"\"\"\n",
    "\n"
   ]
  }
 ],
 "metadata": {
  "kernelspec": {
   "display_name": "Python 3",
   "language": "python",
   "name": "python3"
  },
  "language_info": {
   "codemirror_mode": {
    "name": "ipython",
    "version": 3
   },
   "file_extension": ".py",
   "mimetype": "text/x-python",
   "name": "python",
   "nbconvert_exporter": "python",
   "pygments_lexer": "ipython3",
   "version": "3.13.7"
  }
 },
 "nbformat": 4,
 "nbformat_minor": 5
}
